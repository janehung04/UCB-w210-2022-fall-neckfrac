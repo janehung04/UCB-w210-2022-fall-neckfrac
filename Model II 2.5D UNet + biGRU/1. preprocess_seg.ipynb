{
 "cells": [
  {
   "cell_type": "markdown",
   "metadata": {
    "id": "p4w3IC-Qvcyq"
   },
   "source": [
    "# Import"
   ]
  },
  {
   "cell_type": "code",
   "execution_count": 2,
   "metadata": {},
   "outputs": [
    {
     "name": "stdout",
     "output_type": "stream",
     "text": [
      "/root/workspace/RSNA2022RAWE\n"
     ]
    }
   ],
   "source": [
    "!pwd"
   ]
  },
  {
   "cell_type": "code",
   "execution_count": 9,
   "metadata": {},
   "outputs": [
    {
     "name": "stdout",
     "output_type": "stream",
     "text": [
      "Requirement already satisfied: warmup-scheduler in /opt/conda/lib/python3.8/site-packages (0.3)\n",
      "\u001b[33mWARNING: Running pip as the 'root' user can result in broken permissions and conflicting behaviour with the system package manager. It is recommended to use a virtual environment instead: https://pip.pypa.io/warnings/venv\u001b[0m\u001b[33m\n",
      "\u001b[0m"
     ]
    }
   ],
   "source": [
    "# !pip install -q git+https://github.com/ildoonet/pytorch-gradual-warmup-lr.git\n",
    "# !pip install -U scikit-image\n",
    "# !pip install timm\n",
    "# !pip install nibabel\n",
    "# ! pip install python-gdcm\n",
    "# ! pip install pylibjpeg pylibjpeg-libjpeg pydicom"
   ]
  },
  {
   "cell_type": "code",
   "execution_count": 15,
   "metadata": {
    "colab": {
     "base_uri": "https://localhost:8080/"
    },
    "executionInfo": {
     "elapsed": 222046,
     "status": "ok",
     "timestamp": 1615451967224,
     "user": {
      "displayName": "Ryan",
      "photoUrl": "",
      "userId": ""
     },
     "user_tz": -480
    },
    "id": "4U1yFOTSM5Jw",
    "outputId": "5e7b5f5c-88ed-40ff-f025-4c28bff1fd43"
   },
   "outputs": [
    {
     "name": "stderr",
     "output_type": "stream",
     "text": [
      "/opt/conda/lib/python3.8/site-packages/tqdm/auto.py:22: TqdmWarning: IProgress not found. Please update jupyter and ipywidgets. See https://ipywidgets.readthedocs.io/en/stable/user_install.html\n",
      "  from .autonotebook import tqdm as notebook_tqdm\n",
      "<ipython-input-15-1097431b3a5f>:36: DeprecationWarning: Please use `zoom` from the `scipy.ndimage` namespace, the `scipy.ndimage.interpolation` namespace is deprecated.\n",
      "  from scipy.ndimage.interpolation import zoom\n"
     ]
    }
   ],
   "source": [
    "import sys; \n",
    "import ast\n",
    "from glob import glob\n",
    "import cv2\n",
    "from skimage import io\n",
    "import os\n",
    "from datetime import datetime\n",
    "import time\n",
    "import random\n",
    "from tqdm import tqdm\n",
    "from contextlib import contextmanager\n",
    "import math\n",
    "\n",
    "import numpy as np\n",
    "import pandas as pd\n",
    "import sklearn\n",
    "from sklearn.metrics import roc_auc_score, log_loss\n",
    "from sklearn import metrics\n",
    "from sklearn.model_selection import GroupKFold, StratifiedKFold, KFold\n",
    "import torch\n",
    "import torchvision\n",
    "from torchvision import transforms\n",
    "from torch import nn\n",
    "from torch.utils.data import Dataset,DataLoader\n",
    "from torch.utils.data.sampler import SequentialSampler, RandomSampler\n",
    "from torch.nn.modules.loss import _WeightedLoss\n",
    "import torch.nn.functional as F\n",
    "import matplotlib.pyplot as plt\n",
    "\n",
    "from torch.optim import Adam, SGD, AdamW\n",
    "from torch.optim.lr_scheduler import CosineAnnealingWarmRestarts, CosineAnnealingLR, ReduceLROnPlateau\n",
    "from warmup_scheduler import GradualWarmupScheduler\n",
    "import timm\n",
    "import warnings\n",
    "import joblib\n",
    "from scipy.ndimage.interpolation import zoom\n",
    "import nibabel as nib\n",
    "import pydicom as dicom"
   ]
  },
  {
   "cell_type": "markdown",
   "metadata": {
    "id": "g6YIAKXXe81-"
   },
   "source": [
    "# helper"
   ]
  },
  {
   "cell_type": "code",
   "execution_count": 16,
   "metadata": {},
   "outputs": [],
   "source": [
    "datadir = '/root/input/rsna-2022-cervical-spine-fracture-detection'"
   ]
  },
  {
   "cell_type": "code",
   "execution_count": 17,
   "metadata": {},
   "outputs": [
    {
     "name": "stdout",
     "output_type": "stream",
     "text": [
      "seg_df shape: (87, 2)\n"
     ]
    },
    {
     "data": {
      "text/html": [
       "<div>\n",
       "<style scoped>\n",
       "    .dataframe tbody tr th:only-of-type {\n",
       "        vertical-align: middle;\n",
       "    }\n",
       "\n",
       "    .dataframe tbody tr th {\n",
       "        vertical-align: top;\n",
       "    }\n",
       "\n",
       "    .dataframe thead th {\n",
       "        text-align: right;\n",
       "    }\n",
       "</style>\n",
       "<table border=\"1\" class=\"dataframe\">\n",
       "  <thead>\n",
       "    <tr style=\"text-align: right;\">\n",
       "      <th></th>\n",
       "      <th>StudyInstanceUID</th>\n",
       "      <th>path</th>\n",
       "    </tr>\n",
       "  </thead>\n",
       "  <tbody>\n",
       "    <tr>\n",
       "      <th>0</th>\n",
       "      <td>1.2.826.0.1.3680043.24606</td>\n",
       "      <td>/root/input/rsna-2022-cervical-spine-fracture-...</td>\n",
       "    </tr>\n",
       "    <tr>\n",
       "      <th>1</th>\n",
       "      <td>1.2.826.0.1.3680043.3168</td>\n",
       "      <td>/root/input/rsna-2022-cervical-spine-fracture-...</td>\n",
       "    </tr>\n",
       "    <tr>\n",
       "      <th>2</th>\n",
       "      <td>1.2.826.0.1.3680043.26442</td>\n",
       "      <td>/root/input/rsna-2022-cervical-spine-fracture-...</td>\n",
       "    </tr>\n",
       "  </tbody>\n",
       "</table>\n",
       "</div>"
      ],
      "text/plain": [
       "            StudyInstanceUID  \\\n",
       "0  1.2.826.0.1.3680043.24606   \n",
       "1   1.2.826.0.1.3680043.3168   \n",
       "2  1.2.826.0.1.3680043.26442   \n",
       "\n",
       "                                                path  \n",
       "0  /root/input/rsna-2022-cervical-spine-fracture-...  \n",
       "1  /root/input/rsna-2022-cervical-spine-fracture-...  \n",
       "2  /root/input/rsna-2022-cervical-spine-fracture-...  "
      ]
     },
     "execution_count": 17,
     "metadata": {},
     "output_type": "execute_result"
    }
   ],
   "source": [
    "# Store segmentation paths in a dataframe\n",
    "seg_paths = glob(f\"{datadir}/segmentations/*\")\n",
    "seg_df = pd.DataFrame({'path': seg_paths})\n",
    "seg_df['StudyInstanceUID'] = seg_df['path'].apply(lambda x:x.split('/')[-1][:-4])\n",
    "seg_df = seg_df[['StudyInstanceUID','path']]\n",
    "print('seg_df shape:', seg_df.shape)\n",
    "seg_df.head(3)"
   ]
  },
  {
   "cell_type": "code",
   "execution_count": 18,
   "metadata": {},
   "outputs": [],
   "source": [
    "def load_dicom(path):\n",
    "    \"\"\"\n",
    "    This supports loading both regular and compressed JPEG images. \n",
    "    See the first sell with `pip install` commands for the necessary dependencies\n",
    "    \"\"\"\n",
    "    img = dicom.dcmread(path)\n",
    "    img.PhotometricInterpretation = 'YBR_FULL'\n",
    "    data = img.pixel_array\n",
    "    data = data - np.min(data)\n",
    "    if np.max(data) != 0:\n",
    "        data = data / np.max(data)\n",
    "    data = (data * 255).astype(np.uint8)\n",
    "    return cv2.cvtColor(data, cv2.COLOR_GRAY2RGB), img"
   ]
  },
  {
   "cell_type": "code",
   "execution_count": 19,
   "metadata": {},
   "outputs": [],
   "source": [
    "study_uid_list = seg_df[\"StudyInstanceUID\"].tolist()"
   ]
  },
  {
   "cell_type": "code",
   "execution_count": 20,
   "metadata": {},
   "outputs": [
    {
     "name": "stderr",
     "output_type": "stream",
     "text": [
      "100%|██████████| 87/87 [1:18:24<00:00, 54.08s/it]\n"
     ]
    }
   ],
   "source": [
    "dataframe_list = []\n",
    "os.makedirs(f\"{datadir}/seg_25d_image\", exist_ok=True)\n",
    "os.makedirs(f\"{datadir}/seg_25d_mask\", exist_ok=True)\n",
    "\n",
    "for file_name in tqdm(study_uid_list):\n",
    "    ex_path = f\"{datadir}/segmentations/{file_name}.nii\"\n",
    "    mask = nib.load(ex_path)\n",
    "    mask = mask.get_fdata()  # convert to numpy array\n",
    "    mask = mask[:, ::-1, ::-1].transpose(1, 0, 2)\n",
    "    mask = np.clip(mask,0,8).astype(np.uint8)\n",
    "    mask = np.ascontiguousarray(mask)\n",
    "\n",
    "    train_image_path = glob(f\"{datadir}/train_images/{file_name}/*\")\n",
    "    train_image_path = sorted(train_image_path, key=lambda x:int(x.split(\"/\")[-1].replace(\".dcm\",\"\")))\n",
    "    image_list = []\n",
    "    for path in train_image_path:\n",
    "        im, meta = load_dicom(path)\n",
    "        image_list.append(im[:,:,0])\n",
    "    image = np.stack(image_list, axis=2)\n",
    "    \n",
    "    assert image.shape == mask.shape, f\"Image and mask {file_name} should be the same size, but are {image.shape} and {mask.shape}\"\n",
    "    slice_num = image.shape[2]\n",
    "\n",
    "    for i in range(1, slice_num-1):\n",
    "        image_25d = image[:,:, i-1:i+2]\n",
    "        mask_25d = mask[:,:, i-1:i+2]\n",
    "        assert image_25d.shape == mask_25d.shape == (512, 512, 3), f\"Image and mask {file_name} should be (512, 512, 3), but are {image_25d.shape} and {mask_25d.shape}\"\n",
    "        image_save_path = f\"{datadir}/seg_25d_image/{file_name}_{i}.npy\"\n",
    "        mask_save_path =  f\"{datadir}/seg_25d_mask/{file_name}_{i}.npy\"\n",
    "        np.save(image_save_path, image_25d)\n",
    "        np.save(mask_save_path, mask_25d)\n",
    "        dataframe_list.append([f\"{file_name}_{i}\", file_name, i, image_save_path, mask_save_path])"
   ]
  },
  {
   "cell_type": "code",
   "execution_count": 21,
   "metadata": {},
   "outputs": [],
   "source": [
    "seg_25d_df = pd.DataFrame(dataframe_list, columns=[\"id\", \"StudyInstanceUID\", \"slice_num\", \"image_path\", \"mask_path\"])\n",
    "seg_25d_df[\"fold\"] = -1\n",
    "\n",
    "gkf = GroupKFold(n_splits=5)\n",
    "for idx, (train_index, test_index) in enumerate(gkf.split(X=seg_25d_df, groups=seg_25d_df['StudyInstanceUID'].values)):\n",
    "    seg_25d_df.loc[test_index, 'fold'] = idx"
   ]
  },
  {
   "cell_type": "code",
   "execution_count": 22,
   "metadata": {},
   "outputs": [
    {
     "name": "stdout",
     "output_type": "stream",
     "text": [
      "fold0 num: 17\n",
      "fold1 num: 18\n",
      "fold2 num: 17\n",
      "fold3 num: 17\n",
      "fold4 num: 18\n"
     ]
    }
   ],
   "source": [
    "for i in range(5):\n",
    "    study_num = len(np.unique(seg_25d_df[seg_25d_df[\"fold\"] == i][\"StudyInstanceUID\"]))\n",
    "    print(f\"fold{i} num: {study_num}\")"
   ]
  },
  {
   "cell_type": "code",
   "execution_count": 23,
   "metadata": {},
   "outputs": [],
   "source": [
    "seg_25d_df.to_csv(f\"{datadir}/seg_25d.csv\", index=False)"
   ]
  },
  {
   "cell_type": "code",
   "execution_count": 24,
   "metadata": {},
   "outputs": [
    {
     "data": {
      "text/html": [
       "<div>\n",
       "<style scoped>\n",
       "    .dataframe tbody tr th:only-of-type {\n",
       "        vertical-align: middle;\n",
       "    }\n",
       "\n",
       "    .dataframe tbody tr th {\n",
       "        vertical-align: top;\n",
       "    }\n",
       "\n",
       "    .dataframe thead th {\n",
       "        text-align: right;\n",
       "    }\n",
       "</style>\n",
       "<table border=\"1\" class=\"dataframe\">\n",
       "  <thead>\n",
       "    <tr style=\"text-align: right;\">\n",
       "      <th></th>\n",
       "      <th>id</th>\n",
       "      <th>StudyInstanceUID</th>\n",
       "      <th>slice_num</th>\n",
       "      <th>image_path</th>\n",
       "      <th>mask_path</th>\n",
       "      <th>fold</th>\n",
       "    </tr>\n",
       "  </thead>\n",
       "  <tbody>\n",
       "    <tr>\n",
       "      <th>0</th>\n",
       "      <td>1.2.826.0.1.3680043.24606_1</td>\n",
       "      <td>1.2.826.0.1.3680043.24606</td>\n",
       "      <td>1</td>\n",
       "      <td>/root/input/rsna-2022-cervical-spine-fracture-...</td>\n",
       "      <td>/root/input/rsna-2022-cervical-spine-fracture-...</td>\n",
       "      <td>1</td>\n",
       "    </tr>\n",
       "    <tr>\n",
       "      <th>1</th>\n",
       "      <td>1.2.826.0.1.3680043.24606_2</td>\n",
       "      <td>1.2.826.0.1.3680043.24606</td>\n",
       "      <td>2</td>\n",
       "      <td>/root/input/rsna-2022-cervical-spine-fracture-...</td>\n",
       "      <td>/root/input/rsna-2022-cervical-spine-fracture-...</td>\n",
       "      <td>1</td>\n",
       "    </tr>\n",
       "    <tr>\n",
       "      <th>2</th>\n",
       "      <td>1.2.826.0.1.3680043.24606_3</td>\n",
       "      <td>1.2.826.0.1.3680043.24606</td>\n",
       "      <td>3</td>\n",
       "      <td>/root/input/rsna-2022-cervical-spine-fracture-...</td>\n",
       "      <td>/root/input/rsna-2022-cervical-spine-fracture-...</td>\n",
       "      <td>1</td>\n",
       "    </tr>\n",
       "    <tr>\n",
       "      <th>3</th>\n",
       "      <td>1.2.826.0.1.3680043.24606_4</td>\n",
       "      <td>1.2.826.0.1.3680043.24606</td>\n",
       "      <td>4</td>\n",
       "      <td>/root/input/rsna-2022-cervical-spine-fracture-...</td>\n",
       "      <td>/root/input/rsna-2022-cervical-spine-fracture-...</td>\n",
       "      <td>1</td>\n",
       "    </tr>\n",
       "    <tr>\n",
       "      <th>4</th>\n",
       "      <td>1.2.826.0.1.3680043.24606_5</td>\n",
       "      <td>1.2.826.0.1.3680043.24606</td>\n",
       "      <td>5</td>\n",
       "      <td>/root/input/rsna-2022-cervical-spine-fracture-...</td>\n",
       "      <td>/root/input/rsna-2022-cervical-spine-fracture-...</td>\n",
       "      <td>1</td>\n",
       "    </tr>\n",
       "    <tr>\n",
       "      <th>...</th>\n",
       "      <td>...</td>\n",
       "      <td>...</td>\n",
       "      <td>...</td>\n",
       "      <td>...</td>\n",
       "      <td>...</td>\n",
       "      <td>...</td>\n",
       "    </tr>\n",
       "    <tr>\n",
       "      <th>29653</th>\n",
       "      <td>1.2.826.0.1.3680043.26898_587</td>\n",
       "      <td>1.2.826.0.1.3680043.26898</td>\n",
       "      <td>587</td>\n",
       "      <td>/root/input/rsna-2022-cervical-spine-fracture-...</td>\n",
       "      <td>/root/input/rsna-2022-cervical-spine-fracture-...</td>\n",
       "      <td>2</td>\n",
       "    </tr>\n",
       "    <tr>\n",
       "      <th>29654</th>\n",
       "      <td>1.2.826.0.1.3680043.26898_588</td>\n",
       "      <td>1.2.826.0.1.3680043.26898</td>\n",
       "      <td>588</td>\n",
       "      <td>/root/input/rsna-2022-cervical-spine-fracture-...</td>\n",
       "      <td>/root/input/rsna-2022-cervical-spine-fracture-...</td>\n",
       "      <td>2</td>\n",
       "    </tr>\n",
       "    <tr>\n",
       "      <th>29655</th>\n",
       "      <td>1.2.826.0.1.3680043.26898_589</td>\n",
       "      <td>1.2.826.0.1.3680043.26898</td>\n",
       "      <td>589</td>\n",
       "      <td>/root/input/rsna-2022-cervical-spine-fracture-...</td>\n",
       "      <td>/root/input/rsna-2022-cervical-spine-fracture-...</td>\n",
       "      <td>2</td>\n",
       "    </tr>\n",
       "    <tr>\n",
       "      <th>29656</th>\n",
       "      <td>1.2.826.0.1.3680043.26898_590</td>\n",
       "      <td>1.2.826.0.1.3680043.26898</td>\n",
       "      <td>590</td>\n",
       "      <td>/root/input/rsna-2022-cervical-spine-fracture-...</td>\n",
       "      <td>/root/input/rsna-2022-cervical-spine-fracture-...</td>\n",
       "      <td>2</td>\n",
       "    </tr>\n",
       "    <tr>\n",
       "      <th>29657</th>\n",
       "      <td>1.2.826.0.1.3680043.26898_591</td>\n",
       "      <td>1.2.826.0.1.3680043.26898</td>\n",
       "      <td>591</td>\n",
       "      <td>/root/input/rsna-2022-cervical-spine-fracture-...</td>\n",
       "      <td>/root/input/rsna-2022-cervical-spine-fracture-...</td>\n",
       "      <td>2</td>\n",
       "    </tr>\n",
       "  </tbody>\n",
       "</table>\n",
       "<p>29658 rows × 6 columns</p>\n",
       "</div>"
      ],
      "text/plain": [
       "                                  id           StudyInstanceUID  slice_num  \\\n",
       "0        1.2.826.0.1.3680043.24606_1  1.2.826.0.1.3680043.24606          1   \n",
       "1        1.2.826.0.1.3680043.24606_2  1.2.826.0.1.3680043.24606          2   \n",
       "2        1.2.826.0.1.3680043.24606_3  1.2.826.0.1.3680043.24606          3   \n",
       "3        1.2.826.0.1.3680043.24606_4  1.2.826.0.1.3680043.24606          4   \n",
       "4        1.2.826.0.1.3680043.24606_5  1.2.826.0.1.3680043.24606          5   \n",
       "...                              ...                        ...        ...   \n",
       "29653  1.2.826.0.1.3680043.26898_587  1.2.826.0.1.3680043.26898        587   \n",
       "29654  1.2.826.0.1.3680043.26898_588  1.2.826.0.1.3680043.26898        588   \n",
       "29655  1.2.826.0.1.3680043.26898_589  1.2.826.0.1.3680043.26898        589   \n",
       "29656  1.2.826.0.1.3680043.26898_590  1.2.826.0.1.3680043.26898        590   \n",
       "29657  1.2.826.0.1.3680043.26898_591  1.2.826.0.1.3680043.26898        591   \n",
       "\n",
       "                                              image_path  \\\n",
       "0      /root/input/rsna-2022-cervical-spine-fracture-...   \n",
       "1      /root/input/rsna-2022-cervical-spine-fracture-...   \n",
       "2      /root/input/rsna-2022-cervical-spine-fracture-...   \n",
       "3      /root/input/rsna-2022-cervical-spine-fracture-...   \n",
       "4      /root/input/rsna-2022-cervical-spine-fracture-...   \n",
       "...                                                  ...   \n",
       "29653  /root/input/rsna-2022-cervical-spine-fracture-...   \n",
       "29654  /root/input/rsna-2022-cervical-spine-fracture-...   \n",
       "29655  /root/input/rsna-2022-cervical-spine-fracture-...   \n",
       "29656  /root/input/rsna-2022-cervical-spine-fracture-...   \n",
       "29657  /root/input/rsna-2022-cervical-spine-fracture-...   \n",
       "\n",
       "                                               mask_path  fold  \n",
       "0      /root/input/rsna-2022-cervical-spine-fracture-...     1  \n",
       "1      /root/input/rsna-2022-cervical-spine-fracture-...     1  \n",
       "2      /root/input/rsna-2022-cervical-spine-fracture-...     1  \n",
       "3      /root/input/rsna-2022-cervical-spine-fracture-...     1  \n",
       "4      /root/input/rsna-2022-cervical-spine-fracture-...     1  \n",
       "...                                                  ...   ...  \n",
       "29653  /root/input/rsna-2022-cervical-spine-fracture-...     2  \n",
       "29654  /root/input/rsna-2022-cervical-spine-fracture-...     2  \n",
       "29655  /root/input/rsna-2022-cervical-spine-fracture-...     2  \n",
       "29656  /root/input/rsna-2022-cervical-spine-fracture-...     2  \n",
       "29657  /root/input/rsna-2022-cervical-spine-fracture-...     2  \n",
       "\n",
       "[29658 rows x 6 columns]"
      ]
     },
     "execution_count": 24,
     "metadata": {},
     "output_type": "execute_result"
    }
   ],
   "source": [
    "seg_25d_df"
   ]
  },
  {
   "cell_type": "markdown",
   "metadata": {},
   "source": [
    "0 ---> background   \n",
    "1 ---> C1   \n",
    "2 ---> C2   \n",
    "...     \n",
    "8 ---> T1 - T12  "
   ]
  }
 ],
 "metadata": {
  "accelerator": "GPU",
  "colab": {
   "collapsed_sections": [],
   "name": "【V】stage1.ipynb",
   "provenance": [
    {
     "file_id": "1_ekPHJkRCuHI-A_DNUuSPRXVbsLdlZ5k",
     "timestamp": 1611044390026
    }
   ]
  },
  "instance_type": "ml.g4dn.2xlarge",
  "kernelspec": {
   "display_name": "Python 3 (PyTorch 1.12 Python 3.8 GPU Optimized)",
   "language": "python",
   "name": "python3__SAGEMAKER_INTERNAL__arn:aws:sagemaker:us-east-1:081325390199:image/pytorch-1.12-gpu-py38"
  },
  "language_info": {
   "codemirror_mode": {
    "name": "ipython",
    "version": 3
   },
   "file_extension": ".py",
   "mimetype": "text/x-python",
   "name": "python",
   "nbconvert_exporter": "python",
   "pygments_lexer": "ipython3",
   "version": "3.8.13"
  },
  "toc": {
   "base_numbering": 1,
   "nav_menu": {},
   "number_sections": true,
   "sideBar": true,
   "skip_h1_title": false,
   "title_cell": "Table of Contents",
   "title_sidebar": "Contents",
   "toc_cell": false,
   "toc_position": {},
   "toc_section_display": true,
   "toc_window_display": false
  },
  "vscode": {
   "interpreter": {
    "hash": "b79a61544c9a744d09395b396d14bdc3ab2980641b64ddb1c7bc6d7b892900a0"
   }
  }
 },
 "nbformat": 4,
 "nbformat_minor": 4
}
