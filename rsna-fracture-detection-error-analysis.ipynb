{
 "cells": [
  {
   "cell_type": "markdown",
   "id": "a0237def",
   "metadata": {
    "papermill": {
     "duration": 0.005292,
     "end_time": "2022-10-11T23:57:34.319130",
     "exception": false,
     "start_time": "2022-10-11T23:57:34.313838",
     "status": "completed"
    },
    "tags": []
   },
   "source": [
    "# Load Packages"
   ]
  },
  {
   "cell_type": "code",
   "execution_count": 23,
   "id": "38151b60-13a6-43fa-8b37-fff92cb4de5d",
   "metadata": {},
   "outputs": [
    {
     "name": "stdout",
     "output_type": "stream",
     "text": [
      "Requirement already satisfied: pydicom in /opt/conda/lib/python3.8/site-packages (2.3.0)\n",
      "\u001b[33mWARNING: Running pip as the 'root' user can result in broken permissions and conflicting behaviour with the system package manager. It is recommended to use a virtual environment instead: https://pip.pypa.io/warnings/venv\u001b[0m\u001b[33m\n",
      "\u001b[0mRequirement already satisfied: albumentations in /opt/conda/lib/python3.8/site-packages (1.3.0)\n",
      "Requirement already satisfied: numpy>=1.11.1 in /opt/conda/lib/python3.8/site-packages (from albumentations) (1.22.2)\n",
      "Requirement already satisfied: qudida>=0.0.4 in /opt/conda/lib/python3.8/site-packages (from albumentations) (0.0.4)\n",
      "Requirement already satisfied: PyYAML in /opt/conda/lib/python3.8/site-packages (from albumentations) (5.4.1)\n",
      "Requirement already satisfied: scikit-image>=0.16.1 in /opt/conda/lib/python3.8/site-packages (from albumentations) (0.19.3)\n",
      "Requirement already satisfied: scipy in /opt/conda/lib/python3.8/site-packages (from albumentations) (1.8.0)\n",
      "Requirement already satisfied: opencv-python-headless>=4.1.1 in /opt/conda/lib/python3.8/site-packages (from albumentations) (4.6.0.66)\n",
      "Requirement already satisfied: typing-extensions in /opt/conda/lib/python3.8/site-packages (from qudida>=0.0.4->albumentations) (4.1.1)\n",
      "Requirement already satisfied: scikit-learn>=0.19.1 in /opt/conda/lib/python3.8/site-packages (from qudida>=0.0.4->albumentations) (1.0.2)\n",
      "Requirement already satisfied: imageio>=2.4.1 in /opt/conda/lib/python3.8/site-packages (from scikit-image>=0.16.1->albumentations) (2.16.1)\n",
      "Requirement already satisfied: pillow!=7.1.0,!=7.1.1,!=8.3.0,>=6.1.0 in /opt/conda/lib/python3.8/site-packages (from scikit-image>=0.16.1->albumentations) (9.0.1)\n",
      "Requirement already satisfied: networkx>=2.2 in /opt/conda/lib/python3.8/site-packages (from scikit-image>=0.16.1->albumentations) (2.8.7)\n",
      "Requirement already satisfied: PyWavelets>=1.1.1 in /opt/conda/lib/python3.8/site-packages (from scikit-image>=0.16.1->albumentations) (1.4.1)\n",
      "Requirement already satisfied: tifffile>=2019.7.26 in /opt/conda/lib/python3.8/site-packages (from scikit-image>=0.16.1->albumentations) (2022.10.10)\n",
      "Requirement already satisfied: packaging>=20.0 in /opt/conda/lib/python3.8/site-packages (from scikit-image>=0.16.1->albumentations) (21.3)\n",
      "Requirement already satisfied: pyparsing!=3.0.5,>=2.0.2 in /opt/conda/lib/python3.8/site-packages (from packaging>=20.0->scikit-image>=0.16.1->albumentations) (3.0.7)\n",
      "Requirement already satisfied: joblib>=0.11 in /opt/conda/lib/python3.8/site-packages (from scikit-learn>=0.19.1->qudida>=0.0.4->albumentations) (1.1.0)\n",
      "Requirement already satisfied: threadpoolctl>=2.0.0 in /opt/conda/lib/python3.8/site-packages (from scikit-learn>=0.19.1->qudida>=0.0.4->albumentations) (2.2.0)\n",
      "\u001b[33mWARNING: Running pip as the 'root' user can result in broken permissions and conflicting behaviour with the system package manager. It is recommended to use a virtual environment instead: https://pip.pypa.io/warnings/venv\u001b[0m\u001b[33m\n",
      "\u001b[0mRequirement already satisfied: monai in /opt/conda/lib/python3.8/site-packages (1.0.1)\n",
      "Requirement already satisfied: torch>=1.7 in /opt/conda/lib/python3.8/site-packages (from monai) (1.12.1)\n",
      "Requirement already satisfied: numpy>=1.17 in /opt/conda/lib/python3.8/site-packages (from monai) (1.22.2)\n",
      "Requirement already satisfied: typing-extensions in /opt/conda/lib/python3.8/site-packages (from torch>=1.7->monai) (4.1.1)\n",
      "\u001b[33mWARNING: Running pip as the 'root' user can result in broken permissions and conflicting behaviour with the system package manager. It is recommended to use a virtual environment instead: https://pip.pypa.io/warnings/venv\u001b[0m\u001b[33m\n",
      "\u001b[0m"
     ]
    }
   ],
   "source": [
    "!pip install -U pydicom\n",
    "!pip install albumentations\n",
    "!pip install monai"
   ]
  },
  {
   "cell_type": "code",
   "execution_count": 24,
   "id": "9eb55cda",
   "metadata": {
    "papermill": {
     "duration": 2.83825,
     "end_time": "2022-10-11T23:58:25.521791",
     "exception": false,
     "start_time": "2022-10-11T23:58:22.683541",
     "status": "completed"
    },
    "tags": []
   },
   "outputs": [],
   "source": [
    "# Libraries\n",
    "import os\n",
    "import re\n",
    "import gc\n",
    "import cv2\n",
    "import wandb\n",
    "import PIL\n",
    "from PIL import Image\n",
    "from sklearn.metrics import classification_report\n",
    "import random\n",
    "import math\n",
    "import shutil\n",
    "from glob import glob\n",
    "from tqdm import tqdm\n",
    "from pprint import pprint\n",
    "from time import time\n",
    "import warnings\n",
    "import itertools\n",
    "import pandas as pd\n",
    "import numpy as np\n",
    "import seaborn as sns\n",
    "import matplotlib as mpl\n",
    "from matplotlib import cm\n",
    "import matplotlib.patches as patches\n",
    "import matplotlib.pyplot as plt\n",
    "import matplotlib.image as mpimg\n",
    "from matplotlib.offsetbox import AnnotationBbox, OffsetImage\n",
    "from matplotlib.colors import ListedColormap, LinearSegmentedColormap\n",
    "from matplotlib.patches import Rectangle\n",
    "from IPython.display import display_html\n",
    "plt.rcParams.update({'font.size': 16})\n",
    "\n",
    "# .dcm handling\n",
    "import pydicom\n",
    "# import nibabel as nib\n",
    "from pydicom.pixel_data_handlers.util import apply_voi_lut\n",
    "\n",
    "# Environment check\n",
    "warnings.filterwarnings(\"ignore\")"
   ]
  },
  {
   "cell_type": "code",
   "execution_count": 25,
   "id": "f1b91336",
   "metadata": {
    "papermill": {
     "duration": 5.661681,
     "end_time": "2022-10-11T23:58:31.190377",
     "exception": false,
     "start_time": "2022-10-11T23:58:25.528696",
     "status": "completed"
    },
    "tags": []
   },
   "outputs": [],
   "source": [
    "# PyTorch\n",
    "import torch\n",
    "from torch.utils.data import TensorDataset, DataLoader, Dataset\n",
    "import torch.nn as nn\n",
    "import torch.nn.functional as F\n",
    "import torch.optim as optim\n",
    "from torch.optim import lr_scheduler\n",
    "from torch.utils.data.sampler import SubsetRandomSampler, RandomSampler, SequentialSampler\n",
    "from torch.optim.lr_scheduler import StepLR, ReduceLROnPlateau, CosineAnnealingLR\n",
    "import torchvision \n",
    "import torchvision.transforms as transforms\n",
    "# from warmup_scheduler import GradualWarmupScheduler\n",
    "import albumentations\n",
    "\n",
    "from sklearn.model_selection import GroupKFold, train_test_split, StratifiedKFold\n",
    "from sklearn.metrics import roc_auc_score, cohen_kappa_score, confusion_matrix\n",
    "\n",
    "# MONAI 3D\n",
    "from monai.transforms import Randomizable, apply_transform\n",
    "from monai.transforms import Compose, Resize, ScaleIntensity, ToTensor, RandAffine\n",
    "from monai.networks.nets import densenet"
   ]
  },
  {
   "cell_type": "markdown",
   "id": "6f833d48",
   "metadata": {
    "papermill": {
     "duration": 0.006213,
     "end_time": "2022-10-11T23:58:31.203397",
     "exception": false,
     "start_time": "2022-10-11T23:58:31.197184",
     "status": "completed"
    },
    "tags": []
   },
   "source": [
    "### Helper Functions"
   ]
  },
  {
   "cell_type": "code",
   "execution_count": 26,
   "id": "bf980d19",
   "metadata": {
    "papermill": {
     "duration": 0.019745,
     "end_time": "2022-10-11T23:58:31.230313",
     "exception": false,
     "start_time": "2022-10-11T23:58:31.210568",
     "status": "completed"
    },
    "tags": []
   },
   "outputs": [],
   "source": [
    "def read_data():\n",
    "    '''Reads in all .csv files.'''\n",
    "    \n",
    "    train = pd.read_csv(f\"{INPUT}/train.csv\")\n",
    "    train_bbox = pd.read_csv(f\"{INPUT}/train_bounding_boxes.csv\")\n",
    "    test = pd.read_csv(f\"{INPUT}//test.csv\")\n",
    "    # ss = pd.read_csv(f\"{INPUT}//sample_submission.csv\")\n",
    "    \n",
    "    return train, train_bbox, test#, ss\n",
    "\n",
    "def get_csv_info(csv, name=\"Default\"):\n",
    "    '''Prints main information for the speciffied .csv file.'''\n",
    "    \n",
    "    print(f\"=== {name} ===\")\n",
    "    print(f\"Shape:\", csv.shape)\n",
    "    print(f\"Missing Values:\", csv.isna().sum().sum(), \"total missing datapoints.\")\n",
    "    print(\"Columns:\", list(csv.columns), \"\\n\")\n",
    "    \n",
    "    display_html(csv.head())\n",
    "    print(\"\\n\")\n",
    "    \n",
    "def set_seed(seed=0):\n",
    "    random.seed(seed)\n",
    "    np.random.seed(seed)\n",
    "    torch.manual_seed(seed)  \n",
    "    torch.cuda.manual_seed(seed)  \n",
    "    torch.cuda.manual_seed_all(seed)  \n",
    "    torch.backends.cudnn.deterministic = True\n",
    "    \n",
    "def atoi(text):\n",
    "    return int(text) if text.isdigit() else text\n",
    "\n",
    "def natural_keys(text):\n",
    "    '''\n",
    "    alist.sort(key=natural_keys) sorts in human order\n",
    "    http://nedbatchelder.com/blog/200712/human_sorting.html\n",
    "    (See Toothy's implementation in the comments)\n",
    "    '''\n",
    "    return [ atoi(c) for c in re.split(r'(\\d+)', text) ]"
   ]
  },
  {
   "cell_type": "markdown",
   "id": "e90a7b6e",
   "metadata": {
    "papermill": {
     "duration": 0.006314,
     "end_time": "2022-10-11T23:58:31.243518",
     "exception": false,
     "start_time": "2022-10-11T23:58:31.237204",
     "status": "completed"
    },
    "tags": []
   },
   "source": [
    "# Configure"
   ]
  },
  {
   "cell_type": "code",
   "execution_count": 27,
   "id": "442b0989",
   "metadata": {
    "papermill": {
     "duration": 0.025492,
     "end_time": "2022-10-11T23:58:31.277110",
     "exception": false,
     "start_time": "2022-10-11T23:58:31.251618",
     "status": "completed"
    },
    "tags": []
   },
   "outputs": [
    {
     "name": "stdout",
     "output_type": "stream",
     "text": [
      "Device: cuda\n"
     ]
    }
   ],
   "source": [
    "# Environment check\n",
    "warnings.filterwarnings(\"ignore\")\n",
    "# os.environ[\"WANDB_SILENT\"] = \"true\"\n",
    "CONFIG = {'competition': 'RSNA_SpineFracture', '_wandb_kernel': 'aot'}\n",
    "\n",
    "# set seed\n",
    "set_seed(0)\n",
    "\n",
    "# set GPU\n",
    "DEVICE = torch.device('cuda' if torch.cuda.is_available() else 'cpu')\n",
    "print(\"Device:\", DEVICE)\n",
    "\n",
    "# Kaggle Notebook Setup\n",
    "DF_SIZE = 0.01\n",
    "N_SPLITS = 5\n",
    "KERNEL_TYPE = 'densenet121_baseline'\n",
    "IMG_RESIZE = 100\n",
    "STACK_RESIZE = 50\n",
    "use_amp = False\n",
    "NUM_WORKERS = 1\n",
    "BATCH_SIZE = 2\n",
    "LR = 0.05\n",
    "OUT_DIM = 8\n",
    "EPOCHS = 2\n",
    "\n",
    "target_cols = ['C1', 'C2', 'C3', \n",
    "               'C4', 'C5', 'C6', 'C7',\n",
    "               'patient_overall']\n",
    "\n",
    "competition_weights = {\n",
    "    '-' : torch.tensor([1, 1, 1, 1, 1, 1, 1, 7], dtype=torch.float, device=DEVICE),\n",
    "    '+' : torch.tensor([2, 2, 2, 2, 2, 2, 2, 14], dtype=torch.float, device=DEVICE),\n",
    "}\n",
    "\n",
    "INPUT = \"../input/rsna-2022-cervical-spine-fracture-detection\"\n",
    "CHECKPOINT_PATH='./densenet121_baseline_best_fold0_2a1ca668-540d-11ed-abb4-aa0cb2e0f96a.pth'"
   ]
  },
  {
   "cell_type": "code",
   "execution_count": 28,
   "id": "7f481cb8",
   "metadata": {
    "papermill": {
     "duration": 0.061031,
     "end_time": "2022-10-11T23:58:31.345719",
     "exception": false,
     "start_time": "2022-10-11T23:58:31.284688",
     "status": "completed"
    },
    "tags": []
   },
   "outputs": [],
   "source": [
    "train, train_bbox, test_df = read_data()"
   ]
  },
  {
   "cell_type": "code",
   "execution_count": 29,
   "id": "ca1809e2-bc8e-4432-837c-81855d249a2b",
   "metadata": {},
   "outputs": [],
   "source": [
    "# only use known val data\n",
    "train = train[train.StudyInstanceUID.isin(['1.2.826.0.1.3680043.21561', '1.2.826.0.1.3680043.5565',\n",
    "       '1.2.826.0.1.3680043.20509', '1.2.826.0.1.3680043.23355',\n",
    "       '1.2.826.0.1.3680043.10732', '1.2.826.0.1.3680043.4167',\n",
    "       '1.2.826.0.1.3680043.7673', '1.2.826.0.1.3680043.581',\n",
    "       '1.2.826.0.1.3680043.9548', '1.2.826.0.1.3680043.5126',\n",
    "       '1.2.826.0.1.3680043.31569', '1.2.826.0.1.3680043.17325',\n",
    "       '1.2.826.0.1.3680043.12182', '1.2.826.0.1.3680043.27282',\n",
    "       '1.2.826.0.1.3680043.3397', '1.2.826.0.1.3680043.3020',\n",
    "       '1.2.826.0.1.3680043.22276', '1.2.826.0.1.3680043.19947',\n",
    "       '1.2.826.0.1.3680043.8939', '1.2.826.0.1.3680043.9811',\n",
    "       '1.2.826.0.1.3680043.30831', '1.2.826.0.1.3680043.16463',\n",
    "       '1.2.826.0.1.3680043.22711', '1.2.826.0.1.3680043.23904',\n",
    "       '1.2.826.0.1.3680043.26791', '1.2.826.0.1.3680043.10041',\n",
    "       '1.2.826.0.1.3680043.12675', '1.2.826.0.1.3680043.27714',\n",
    "       '1.2.826.0.1.3680043.21978', '1.2.826.0.1.3680043.17625',\n",
    "       '1.2.826.0.1.3680043.18207', '1.2.826.0.1.3680043.11757',\n",
    "       '1.2.826.0.1.3680043.10204', '1.2.826.0.1.3680043.2595',\n",
    "       '1.2.826.0.1.3680043.24974', '1.2.826.0.1.3680043.8385',\n",
    "       '1.2.826.0.1.3680043.14087', '1.2.826.0.1.3680043.19084',\n",
    "       '1.2.826.0.1.3680043.29876', '1.2.826.0.1.3680043.4678',\n",
    "       '1.2.826.0.1.3680043.15253'])]"
   ]
  },
  {
   "cell_type": "code",
   "execution_count": 30,
   "id": "9edaa2da",
   "metadata": {
    "papermill": {
     "duration": 0.023532,
     "end_time": "2022-10-11T23:58:56.666264",
     "exception": false,
     "start_time": "2022-10-11T23:58:56.642732",
     "status": "completed"
    },
    "tags": []
   },
   "outputs": [],
   "source": [
    "# test RSNA dataset\n",
    "\n",
    "class RSNADataset_test(Dataset, Randomizable):\n",
    "    \n",
    "    def __init__(self, csv, mode, transform=None):\n",
    "        self.csv = csv\n",
    "        self.mode = mode\n",
    "        self.transform = transform\n",
    "        \n",
    "    def __len__(self):\n",
    "        return self.csv.shape[0]\n",
    "    \n",
    "    def randomize(self) -> None:\n",
    "        '''-> None is a type annotation for the function that states \n",
    "        that this function returns None.'''\n",
    "        \n",
    "        MAX_SEED = np.iinfo(np.uint32).max + 1\n",
    "        self.seed = self.R.randint(MAX_SEED, dtype=\"uint32\")\n",
    "        \n",
    "    def __getitem__(self, index):\n",
    "        # Set Random Seed\n",
    "        self.randomize()\n",
    "        \n",
    "        dt = self.csv.iloc[index, :]\n",
    "        study_paths = glob(f\"{INPUT}/train_images/{dt.StudyInstanceUID}/*\")\n",
    "        study_paths.sort(key=natural_keys)\n",
    "        \n",
    "        # Load images\n",
    "        study_images = [cv2.imread(path)[:,:,::-1] for path in study_paths]\n",
    "        # Stack all scans into 1\n",
    "        stacked_image = np.stack([img.astype(np.float32) for img in study_images], \n",
    "                                 axis=2).transpose(3,0,1,2)\n",
    "        \n",
    "        # Apply transforms\n",
    "        if self.transform:\n",
    "            if isinstance(self.transform, Randomizable):\n",
    "                self.transform.set_random_state(seed=self.seed)\n",
    "                \n",
    "            stacked_image = apply_transform(self.transform, stacked_image)\n",
    "        \n",
    "        # Determine output of dataset\n",
    "        if self.mode==\"test\":\n",
    "            return {\"image\": stacked_image,\n",
    "                   \"patient\":dt.StudyInstanceUID}\n",
    "        else:\n",
    "            targets = torch.tensor(dt[target_cols]).float()\n",
    "            return {\"image\": stacked_image,\n",
    "                    \"targets\": targets}"
   ]
  },
  {
   "cell_type": "code",
   "execution_count": 31,
   "id": "16e81c67",
   "metadata": {
    "papermill": {
     "duration": 0.017655,
     "end_time": "2022-10-11T23:58:56.691871",
     "exception": false,
     "start_time": "2022-10-11T23:58:56.674216",
     "status": "completed"
    },
    "tags": []
   },
   "outputs": [],
   "source": [
    "# send the data to GPU\n",
    "def data_to_device(data):\n",
    "    image, patient = data.values()\n",
    "    return image.to(DEVICE), patient"
   ]
  },
  {
   "cell_type": "code",
   "execution_count": 32,
   "id": "b06b9303",
   "metadata": {
    "papermill": {
     "duration": 0.018772,
     "end_time": "2022-10-11T23:58:56.719127",
     "exception": false,
     "start_time": "2022-10-11T23:58:56.700355",
     "status": "completed"
    },
    "tags": []
   },
   "outputs": [],
   "source": [
    "# transform\n",
    "test_transforms = Compose([ScaleIntensity(), \n",
    "                          Resize((IMG_RESIZE, IMG_RESIZE, STACK_RESIZE)), \n",
    "                          ToTensor()])"
   ]
  },
  {
   "cell_type": "code",
   "execution_count": 33,
   "id": "2c45e8cb",
   "metadata": {
    "papermill": {
     "duration": 0.021407,
     "end_time": "2022-10-11T23:58:56.749585",
     "exception": false,
     "start_time": "2022-10-11T23:58:56.728178",
     "status": "completed"
    },
    "tags": []
   },
   "outputs": [],
   "source": [
    "# Instantiate Dataset object\n",
    "test_dataset = RSNADataset_test(csv=train, mode=\"test\", transform=test_transforms)\n",
    "# The Dataloader\n",
    "test_dataloader = DataLoader(test_dataset, batch_size=3, shuffle=False)"
   ]
  },
  {
   "cell_type": "markdown",
   "id": "f5b5859e",
   "metadata": {
    "papermill": {
     "duration": 0.008024,
     "end_time": "2022-10-11T23:58:56.791729",
     "exception": false,
     "start_time": "2022-10-11T23:58:56.783705",
     "status": "completed"
    },
    "tags": []
   },
   "source": [
    "# Load trained model"
   ]
  },
  {
   "cell_type": "code",
   "execution_count": 34,
   "id": "20decd17",
   "metadata": {
    "_kg_hide-output": true,
    "papermill": {
     "duration": 0.239152,
     "end_time": "2022-10-11T23:58:57.039568",
     "exception": false,
     "start_time": "2022-10-11T23:58:56.800416",
     "status": "completed"
    },
    "tags": []
   },
   "outputs": [],
   "source": [
    "%%capture\n",
    "model = densenet.densenet121(spatial_dims=3, in_channels=3,\n",
    "                                 out_channels=OUT_DIM)\n",
    "model.class_layers.out = nn.Sequential(nn.Linear(in_features=1024, out_features=OUT_DIM), \n",
    "                                           nn.Softmax(dim=1))\n",
    "model.to(DEVICE)"
   ]
  },
  {
   "cell_type": "code",
   "execution_count": 35,
   "id": "6e479881",
   "metadata": {
    "papermill": {
     "duration": 1.03753,
     "end_time": "2022-10-11T23:58:58.087298",
     "exception": false,
     "start_time": "2022-10-11T23:58:57.049768",
     "status": "completed"
    },
    "tags": []
   },
   "outputs": [],
   "source": [
    "%%capture\n",
    "# Load checkpoint\n",
    "if torch.cuda.is_available():\n",
    "    checkpoint = torch.load(CHECKPOINT_PATH)\n",
    "else:\n",
    "    checkpoint = torch.load(CHECKPOINT_PATH, map_location=torch.device('cpu'))\n",
    "\n",
    "# Load states\n",
    "model.load_state_dict(checkpoint)\n",
    "\n",
    "# Evaluation mode\n",
    "model.eval()\n",
    "model.to(DEVICE)"
   ]
  },
  {
   "cell_type": "markdown",
   "id": "4fd58eab",
   "metadata": {
    "papermill": {
     "duration": 0.009327,
     "end_time": "2022-10-11T23:58:58.106471",
     "exception": false,
     "start_time": "2022-10-11T23:58:58.097144",
     "status": "completed"
    },
    "tags": []
   },
   "source": [
    "# Inference"
   ]
  },
  {
   "cell_type": "code",
   "execution_count": 36,
   "id": "3dd17bf7",
   "metadata": {
    "papermill": {
     "duration": 169.884219,
     "end_time": "2022-10-12T00:01:48.031688",
     "exception": false,
     "start_time": "2022-10-11T23:58:58.147469",
     "status": "completed"
    },
    "tags": []
   },
   "outputs": [
    {
     "name": "stdout",
     "output_type": "stream",
     "text": [
      "Iteration 1/14\n",
      "Iteration 2/14\n",
      "Iteration 3/14\n",
      "Iteration 4/14\n",
      "Iteration 5/14\n",
      "Iteration 6/14\n",
      "Iteration 7/14\n",
      "Iteration 8/14\n",
      "Iteration 9/14\n",
      "Iteration 10/14\n",
      "Iteration 11/14\n",
      "Iteration 12/14\n",
      "Iteration 13/14\n",
      "Iteration 14/14\n",
      "\n",
      "    Inference time = 0.059920726153585645 hrs\n",
      "    Number of predictions = 14\n",
      "    \n"
     ]
    }
   ],
   "source": [
    "test_preds = []\n",
    "t0 = time()\n",
    "for i, data in enumerate(test_dataloader):\n",
    "        print(f'Iteration {i+1}/{len(test_dataloader)}')\n",
    "        # Send to device\n",
    "        imgs, patient = data_to_device(data)\n",
    "        \n",
    "        # Make predictions\n",
    "        preds = model(imgs)\n",
    "        \n",
    "        # output to device\n",
    "        test_preds.append(preds.detach().cpu().numpy())\n",
    "        \n",
    "tf = time()\n",
    "inference_time = tf-t0\n",
    "print(f\"\"\"\n",
    "    Inference time = {inference_time/3600} hrs\n",
    "    Number of predictions = {train.StudyInstanceUID.nunique()}\n",
    "    \"\"\")"
   ]
  },
  {
   "cell_type": "code",
   "execution_count": 37,
   "id": "43f58a06",
   "metadata": {
    "papermill": {
     "duration": 0.043881,
     "end_time": "2022-10-12T00:01:48.086043",
     "exception": false,
     "start_time": "2022-10-12T00:01:48.042162",
     "status": "completed"
    },
    "tags": []
   },
   "outputs": [],
   "source": [
    "preds = []\n",
    "for i in test_preds:\n",
    "    for j in i:\n",
    "        preds.append(j)"
   ]
  },
  {
   "cell_type": "markdown",
   "id": "6d78b9fb",
   "metadata": {},
   "source": [
    "## Process predictions"
   ]
  },
  {
   "cell_type": "code",
   "execution_count": 38,
   "id": "b30c8be7",
   "metadata": {
    "papermill": {
     "duration": 0.023875,
     "end_time": "2022-10-12T00:01:48.120856",
     "exception": false,
     "start_time": "2022-10-12T00:01:48.096981",
     "status": "completed"
    },
    "tags": []
   },
   "outputs": [],
   "source": [
    "def process_test(df, preds):\n",
    "    cols = ['C1', 'C2', 'C3', 'C4', 'C5', 'C6', 'C7', 'patient_overall']\n",
    "    patients = df.StudyInstanceUID.to_list()\n",
    "    \n",
    "    df_sub = pd.DataFrame()\n",
    "    \n",
    "    for i, p in enumerate(patients):\n",
    "        scores = list(preds[i])\n",
    "        if len(scores) < 8:\n",
    "            scores.append(preds[i].max() + preds[i].mean())\n",
    "        \n",
    "        df_temp = pd.DataFrame({'StudyInstanceUID': [p]*len(cols), 'prediction_type': cols, 'fractured': scores})\n",
    "        df_sub = pd.concat([df_sub, df_temp])\n",
    "        \n",
    "        del df_temp\n",
    "    \n",
    "    df_sub['row_id'] = df_sub['StudyInstanceUID'] + '_' + df_sub['prediction_type']\n",
    "    \n",
    "    return df_sub[['row_id', 'fractured']].reset_index(drop = True)\n",
    "    "
   ]
  },
  {
   "cell_type": "code",
   "execution_count": 39,
   "id": "b9d242d7-42ce-47e5-8517-c8cba1df9db5",
   "metadata": {},
   "outputs": [],
   "source": [
    "df_sub = process_test(train,preds)"
   ]
  },
  {
   "cell_type": "code",
   "execution_count": 40,
   "id": "a587cb4c-a467-42c8-9b5d-1cae9c669391",
   "metadata": {},
   "outputs": [
    {
     "data": {
      "text/html": [
       "<div>\n",
       "<style scoped>\n",
       "    .dataframe tbody tr th:only-of-type {\n",
       "        vertical-align: middle;\n",
       "    }\n",
       "\n",
       "    .dataframe tbody tr th {\n",
       "        vertical-align: top;\n",
       "    }\n",
       "\n",
       "    .dataframe thead th {\n",
       "        text-align: right;\n",
       "    }\n",
       "</style>\n",
       "<table border=\"1\" class=\"dataframe\">\n",
       "  <thead>\n",
       "    <tr style=\"text-align: right;\">\n",
       "      <th></th>\n",
       "      <th>actual</th>\n",
       "      <th>row_id</th>\n",
       "    </tr>\n",
       "  </thead>\n",
       "  <tbody>\n",
       "  </tbody>\n",
       "</table>\n",
       "</div>"
      ],
      "text/plain": [
       "Empty DataFrame\n",
       "Columns: [actual, row_id]\n",
       "Index: []"
      ]
     },
     "execution_count": 40,
     "metadata": {},
     "output_type": "execute_result"
    }
   ],
   "source": [
    "train_melt = pd.melt(train,\n",
    "                     id_vars=['StudyInstanceUID'],\n",
    "                     value_vars = ['patient_overall','C1','C2','C3','C4','C5','C6','C7'],\n",
    "                     value_name = 'actual',\n",
    "                    )\n",
    "train_melt['row_id'] = train_melt['StudyInstanceUID'] + '_' + train_melt['variable']\n",
    "train_melt = train_melt.drop(columns = ['StudyInstanceUID','variable'])"
   ]
  },
  {
   "cell_type": "code",
   "execution_count": 42,
   "id": "72c76c39-6d0c-437d-88ad-1895baa0f9d0",
   "metadata": {},
   "outputs": [
    {
     "data": {
      "text/html": [
       "<div>\n",
       "<style scoped>\n",
       "    .dataframe tbody tr th:only-of-type {\n",
       "        vertical-align: middle;\n",
       "    }\n",
       "\n",
       "    .dataframe tbody tr th {\n",
       "        vertical-align: top;\n",
       "    }\n",
       "\n",
       "    .dataframe thead th {\n",
       "        text-align: right;\n",
       "    }\n",
       "</style>\n",
       "<table border=\"1\" class=\"dataframe\">\n",
       "  <thead>\n",
       "    <tr style=\"text-align: right;\">\n",
       "      <th></th>\n",
       "      <th>actual</th>\n",
       "      <th>row_id</th>\n",
       "      <th>fractured</th>\n",
       "    </tr>\n",
       "  </thead>\n",
       "  <tbody>\n",
       "    <tr>\n",
       "      <th>0</th>\n",
       "      <td>1</td>\n",
       "      <td>1.2.826.0.1.3680043.21561_patient_overall</td>\n",
       "      <td>0.000000e+00</td>\n",
       "    </tr>\n",
       "    <tr>\n",
       "      <th>1</th>\n",
       "      <td>0</td>\n",
       "      <td>1.2.826.0.1.3680043.5565_patient_overall</td>\n",
       "      <td>0.000000e+00</td>\n",
       "    </tr>\n",
       "    <tr>\n",
       "      <th>2</th>\n",
       "      <td>0</td>\n",
       "      <td>1.2.826.0.1.3680043.20509_patient_overall</td>\n",
       "      <td>8.332293e-08</td>\n",
       "    </tr>\n",
       "    <tr>\n",
       "      <th>3</th>\n",
       "      <td>0</td>\n",
       "      <td>1.2.826.0.1.3680043.23355_patient_overall</td>\n",
       "      <td>0.000000e+00</td>\n",
       "    </tr>\n",
       "    <tr>\n",
       "      <th>4</th>\n",
       "      <td>1</td>\n",
       "      <td>1.2.826.0.1.3680043.10732_patient_overall</td>\n",
       "      <td>0.000000e+00</td>\n",
       "    </tr>\n",
       "  </tbody>\n",
       "</table>\n",
       "</div>"
      ],
      "text/plain": [
       "   actual                                     row_id     fractured\n",
       "0       1  1.2.826.0.1.3680043.21561_patient_overall  0.000000e+00\n",
       "1       0   1.2.826.0.1.3680043.5565_patient_overall  0.000000e+00\n",
       "2       0  1.2.826.0.1.3680043.20509_patient_overall  8.332293e-08\n",
       "3       0  1.2.826.0.1.3680043.23355_patient_overall  0.000000e+00\n",
       "4       1  1.2.826.0.1.3680043.10732_patient_overall  0.000000e+00"
      ]
     },
     "execution_count": 42,
     "metadata": {},
     "output_type": "execute_result"
    }
   ],
   "source": [
    "model_results = pd.merge(train_melt,df_sub, on ='row_id',how='outer')\n",
    "model_results.head()"
   ]
  },
  {
   "cell_type": "code",
   "execution_count": 43,
   "id": "9bb04a73-f7cc-407c-a711-a1a16d672288",
   "metadata": {},
   "outputs": [],
   "source": [
    "model_results.to_csv(f\"{CHECKPOINT_PATH[2:-4]}_train_results.csv\",index=False)"
   ]
  },
  {
   "cell_type": "code",
   "execution_count": 4,
   "id": "73aba69c-f96b-4926-b139-5b88f590361d",
   "metadata": {},
   "outputs": [],
   "source": [
    "import pandas as pd\n",
    "from sklearn.metrics import classification_report, confusion_matrix\n",
    "import numpy as np\n",
    "pd.set_option(\"mode.chained_assignment\", None)\n",
    "CHECKPOINT_PATH='./densenet121_baseline_best_fold0_2a1ca668-540d-11ed-abb4-aa0cb2e0f96a.pth'\n",
    "model_results = pd.read_csv(f'./{CHECKPOINT_PATH[2:-4]}_train_results.csv')"
   ]
  },
  {
   "cell_type": "code",
   "execution_count": 6,
   "id": "f2ff15b7-0ec8-4a7a-9c03-1e3f095d6ea2",
   "metadata": {},
   "outputs": [],
   "source": [
    "def define_eval_metrics(df):\n",
    "    cls_report = classification_report(y_true=df.actual, y_pred = df.fractured, zero_division=0, output_dict=True)\n",
    "\n",
    "    recall = np.round(cls_report['1']['recall'] * 100)\n",
    "    precision = np.round(cls_report['1']['precision'] * 100)\n",
    "\n",
    "    tn, fp, fn, tp = confusion_matrix(y_true=df.actual, y_pred = df.fractured).ravel()\n",
    "\n",
    "    fpr = fp / (fp+tn)\n",
    "    fnr = fn / (fn+tp)\n",
    "\n",
    "    pred_pos_rate = np.mean(df.fractured == 1)\n",
    "    actual_pos_rate = np.mean(df.actual == 1)\n",
    "    \n",
    "    return([recall,precision,tn,fp,fn,tp,fpr,fnr])\n",
    "\n",
    "def eval_model(df):\n",
    "    \n",
    "    try:\n",
    "        print(f'Average inference time : {inference_time/(len(df)/8):.3f} s per patient')\n",
    "    except:\n",
    "        print('No time data available')\n",
    "\n",
    "    # initialize patient and vertebrae df\n",
    "    df['fractured'] = round(df.fractured)\n",
    "    patient_df = df[df.row_id.str.contains(\"patient_overall\")]\n",
    "    vert_df =  df[~df.row_id.str.contains(\"patient_overall\")]\n",
    "\n",
    "    # store eval metrics\n",
    "    eval_metrics = dict()\n",
    "    eval_metrics['eval_metric'] = ['recall','precision','tn','fp','fn','tp','fpr','fnr']\n",
    "\n",
    "    eval_metrics['patient_level'] = define_eval_metrics(patient_df)\n",
    "    eval_metrics['vertebrae_level'] = define_eval_metrics(vert_df)\n",
    "    \n",
    "    # which vertebrae are missed the most? FP FN?\n",
    "    vert_df.loc[:,'vertebrae'] = vert_df.row_id.str.split('_',).apply(lambda x: x[-1])\n",
    "\n",
    "    for vertebra in vert_df.vertebrae.unique():\n",
    "        eval_metrics[vertebra] = define_eval_metrics(\n",
    "            vert_df.loc[vert_df.vertebrae == vertebra])\n",
    "\n",
    "    \n",
    "    # issues with patient overall not match patient vertebrae prediction?\n",
    "    \n",
    "    return(pd.DataFrame.from_dict(eval_metrics))\n"
   ]
  },
  {
   "cell_type": "code",
   "execution_count": 7,
   "id": "9a080b3a",
   "metadata": {},
   "outputs": [
    {
     "name": "stdout",
     "output_type": "stream",
     "text": [
      "No time data available\n"
     ]
    },
    {
     "ename": "TypeError",
     "evalue": "only size-1 arrays can be converted to Python scalars",
     "output_type": "error",
     "traceback": [
      "\u001b[0;31m---------------------------------------------------------------------------\u001b[0m",
      "\u001b[0;31mTypeError\u001b[0m                                 Traceback (most recent call last)",
      "\u001b[0;32m<ipython-input-52-770b8ea2b217>\u001b[0m in \u001b[0;36m<module>\u001b[0;34m\u001b[0m\n\u001b[0;32m----> 1\u001b[0;31m \u001b[0mmodel_results_tbl\u001b[0m \u001b[0;34m=\u001b[0m \u001b[0meval_model\u001b[0m\u001b[0;34m(\u001b[0m\u001b[0mmodel_results\u001b[0m\u001b[0;34m)\u001b[0m\u001b[0;34m\u001b[0m\u001b[0;34m\u001b[0m\u001b[0m\n\u001b[0m",
      "\u001b[0;32m<ipython-input-51-b1c9460d7818>\u001b[0m in \u001b[0;36meval_model\u001b[0;34m(df)\u001b[0m\n\u001b[1;32m     31\u001b[0m     \u001b[0meval_metrics\u001b[0m\u001b[0;34m[\u001b[0m\u001b[0;34m'eval_metric'\u001b[0m\u001b[0;34m]\u001b[0m \u001b[0;34m=\u001b[0m \u001b[0;34m[\u001b[0m\u001b[0;34m'recall'\u001b[0m\u001b[0;34m,\u001b[0m\u001b[0;34m'precision'\u001b[0m\u001b[0;34m,\u001b[0m\u001b[0;34m'tn'\u001b[0m\u001b[0;34m,\u001b[0m\u001b[0;34m'fp'\u001b[0m\u001b[0;34m,\u001b[0m\u001b[0;34m'fn'\u001b[0m\u001b[0;34m,\u001b[0m\u001b[0;34m'tp'\u001b[0m\u001b[0;34m,\u001b[0m\u001b[0;34m'fpr'\u001b[0m\u001b[0;34m,\u001b[0m\u001b[0;34m'fnr'\u001b[0m\u001b[0;34m]\u001b[0m\u001b[0;34m\u001b[0m\u001b[0;34m\u001b[0m\u001b[0m\n\u001b[1;32m     32\u001b[0m \u001b[0;34m\u001b[0m\u001b[0m\n\u001b[0;32m---> 33\u001b[0;31m     \u001b[0meval_metrics\u001b[0m\u001b[0;34m[\u001b[0m\u001b[0;34m'patient_level'\u001b[0m\u001b[0;34m]\u001b[0m \u001b[0;34m=\u001b[0m \u001b[0mdefine_eval_metrics\u001b[0m\u001b[0;34m(\u001b[0m\u001b[0mpatient_df\u001b[0m\u001b[0;34m)\u001b[0m\u001b[0;34m\u001b[0m\u001b[0;34m\u001b[0m\u001b[0m\n\u001b[0m\u001b[1;32m     34\u001b[0m     \u001b[0meval_metrics\u001b[0m\u001b[0;34m[\u001b[0m\u001b[0;34m'vertebrae_level'\u001b[0m\u001b[0;34m]\u001b[0m \u001b[0;34m=\u001b[0m \u001b[0mdefine_eval_metrics\u001b[0m\u001b[0;34m(\u001b[0m\u001b[0mvert_df\u001b[0m\u001b[0;34m)\u001b[0m\u001b[0;34m\u001b[0m\u001b[0;34m\u001b[0m\u001b[0m\n\u001b[1;32m     35\u001b[0m \u001b[0;34m\u001b[0m\u001b[0m\n",
      "\u001b[0;32m<ipython-input-51-b1c9460d7818>\u001b[0m in \u001b[0;36mdefine_eval_metrics\u001b[0;34m(df)\u001b[0m\n\u001b[1;32m      5\u001b[0m     \u001b[0mprecision\u001b[0m \u001b[0;34m=\u001b[0m \u001b[0mnp\u001b[0m\u001b[0;34m.\u001b[0m\u001b[0mround\u001b[0m\u001b[0;34m(\u001b[0m\u001b[0mcls_report\u001b[0m\u001b[0;34m[\u001b[0m\u001b[0;34m'1'\u001b[0m\u001b[0;34m]\u001b[0m\u001b[0;34m[\u001b[0m\u001b[0;34m'precision'\u001b[0m\u001b[0;34m]\u001b[0m \u001b[0;34m*\u001b[0m \u001b[0;36m100\u001b[0m\u001b[0;34m)\u001b[0m\u001b[0;34m\u001b[0m\u001b[0;34m\u001b[0m\u001b[0m\n\u001b[1;32m      6\u001b[0m \u001b[0;34m\u001b[0m\u001b[0m\n\u001b[0;32m----> 7\u001b[0;31m     \u001b[0mtn\u001b[0m\u001b[0;34m,\u001b[0m \u001b[0mfp\u001b[0m\u001b[0;34m,\u001b[0m \u001b[0mfn\u001b[0m\u001b[0;34m,\u001b[0m \u001b[0mtp\u001b[0m \u001b[0;34m=\u001b[0m \u001b[0mint\u001b[0m\u001b[0;34m(\u001b[0m\u001b[0mconfusion_matrix\u001b[0m\u001b[0;34m(\u001b[0m\u001b[0my_true\u001b[0m\u001b[0;34m=\u001b[0m\u001b[0mdf\u001b[0m\u001b[0;34m.\u001b[0m\u001b[0mactual\u001b[0m\u001b[0;34m,\u001b[0m \u001b[0my_pred\u001b[0m \u001b[0;34m=\u001b[0m \u001b[0mdf\u001b[0m\u001b[0;34m.\u001b[0m\u001b[0mfractured\u001b[0m\u001b[0;34m)\u001b[0m\u001b[0;34m.\u001b[0m\u001b[0mravel\u001b[0m\u001b[0;34m(\u001b[0m\u001b[0;34m)\u001b[0m\u001b[0;34m)\u001b[0m\u001b[0;34m\u001b[0m\u001b[0;34m\u001b[0m\u001b[0m\n\u001b[0m\u001b[1;32m      8\u001b[0m \u001b[0;34m\u001b[0m\u001b[0m\n\u001b[1;32m      9\u001b[0m     \u001b[0mfpr\u001b[0m \u001b[0;34m=\u001b[0m \u001b[0mfp\u001b[0m \u001b[0;34m/\u001b[0m \u001b[0;34m(\u001b[0m\u001b[0mfp\u001b[0m\u001b[0;34m+\u001b[0m\u001b[0mtn\u001b[0m\u001b[0;34m)\u001b[0m\u001b[0;34m\u001b[0m\u001b[0;34m\u001b[0m\u001b[0m\n",
      "\u001b[0;31mTypeError\u001b[0m: only size-1 arrays can be converted to Python scalars"
     ]
    }
   ],
   "source": [
    "model_results_tbl = eval_model(model_results)"
   ]
  },
  {
   "cell_type": "code",
   "execution_count": 8,
   "id": "205ccd36-5f10-4432-8e22-05deabb2ab7d",
   "metadata": {},
   "outputs": [],
   "source": [
    "model_results_tbl[['patient_level', 'vertebrae_level', 'C1', 'C2', 'C3',\n",
    "       'C4', 'C5', 'C6', 'C7']] = model_results_tbl[['patient_level', 'vertebrae_level', 'C1', 'C2', 'C3',\n",
    "       'C4', 'C5', 'C6', 'C7']].applymap(lambda x: np.round(x,3))"
   ]
  },
  {
   "cell_type": "code",
   "execution_count": 9,
   "id": "e8be9f2d-d773-4c73-a833-f69f5e02ec96",
   "metadata": {},
   "outputs": [
    {
     "data": {
      "text/html": [
       "<div>\n",
       "<style scoped>\n",
       "    .dataframe tbody tr th:only-of-type {\n",
       "        vertical-align: middle;\n",
       "    }\n",
       "\n",
       "    .dataframe tbody tr th {\n",
       "        vertical-align: top;\n",
       "    }\n",
       "\n",
       "    .dataframe thead th {\n",
       "        text-align: right;\n",
       "    }\n",
       "</style>\n",
       "<table border=\"1\" class=\"dataframe\">\n",
       "  <thead>\n",
       "    <tr style=\"text-align: right;\">\n",
       "      <th></th>\n",
       "      <th>eval_metric</th>\n",
       "      <th>patient_level</th>\n",
       "      <th>vertebrae_level</th>\n",
       "      <th>C1</th>\n",
       "      <th>C2</th>\n",
       "      <th>C3</th>\n",
       "      <th>C4</th>\n",
       "      <th>C5</th>\n",
       "      <th>C6</th>\n",
       "      <th>C7</th>\n",
       "    </tr>\n",
       "  </thead>\n",
       "  <tbody>\n",
       "    <tr>\n",
       "      <th>0</th>\n",
       "      <td>recall</td>\n",
       "      <td>0.0</td>\n",
       "      <td>0.086</td>\n",
       "      <td>0.0</td>\n",
       "      <td>0.0</td>\n",
       "      <td>0.333</td>\n",
       "      <td>1.000</td>\n",
       "      <td>0.0</td>\n",
       "      <td>0.0</td>\n",
       "      <td>0.0</td>\n",
       "    </tr>\n",
       "    <tr>\n",
       "      <th>1</th>\n",
       "      <td>precision</td>\n",
       "      <td>0.0</td>\n",
       "      <td>0.073</td>\n",
       "      <td>0.0</td>\n",
       "      <td>0.0</td>\n",
       "      <td>0.037</td>\n",
       "      <td>0.143</td>\n",
       "      <td>0.0</td>\n",
       "      <td>0.0</td>\n",
       "      <td>0.0</td>\n",
       "    </tr>\n",
       "    <tr>\n",
       "      <th>2</th>\n",
       "      <td>tn</td>\n",
       "      <td>19.0</td>\n",
       "      <td>214.000</td>\n",
       "      <td>37.0</td>\n",
       "      <td>33.0</td>\n",
       "      <td>12.000</td>\n",
       "      <td>27.000</td>\n",
       "      <td>36.0</td>\n",
       "      <td>36.0</td>\n",
       "      <td>33.0</td>\n",
       "    </tr>\n",
       "    <tr>\n",
       "      <th>3</th>\n",
       "      <td>fp</td>\n",
       "      <td>0.0</td>\n",
       "      <td>38.000</td>\n",
       "      <td>0.0</td>\n",
       "      <td>0.0</td>\n",
       "      <td>26.000</td>\n",
       "      <td>12.000</td>\n",
       "      <td>0.0</td>\n",
       "      <td>0.0</td>\n",
       "      <td>0.0</td>\n",
       "    </tr>\n",
       "    <tr>\n",
       "      <th>4</th>\n",
       "      <td>fn</td>\n",
       "      <td>22.0</td>\n",
       "      <td>32.000</td>\n",
       "      <td>4.0</td>\n",
       "      <td>8.0</td>\n",
       "      <td>2.000</td>\n",
       "      <td>0.000</td>\n",
       "      <td>5.0</td>\n",
       "      <td>5.0</td>\n",
       "      <td>8.0</td>\n",
       "    </tr>\n",
       "    <tr>\n",
       "      <th>5</th>\n",
       "      <td>tp</td>\n",
       "      <td>0.0</td>\n",
       "      <td>3.000</td>\n",
       "      <td>0.0</td>\n",
       "      <td>0.0</td>\n",
       "      <td>1.000</td>\n",
       "      <td>2.000</td>\n",
       "      <td>0.0</td>\n",
       "      <td>0.0</td>\n",
       "      <td>0.0</td>\n",
       "    </tr>\n",
       "    <tr>\n",
       "      <th>6</th>\n",
       "      <td>fpr</td>\n",
       "      <td>0.0</td>\n",
       "      <td>0.151</td>\n",
       "      <td>0.0</td>\n",
       "      <td>0.0</td>\n",
       "      <td>0.684</td>\n",
       "      <td>0.308</td>\n",
       "      <td>0.0</td>\n",
       "      <td>0.0</td>\n",
       "      <td>0.0</td>\n",
       "    </tr>\n",
       "    <tr>\n",
       "      <th>7</th>\n",
       "      <td>fnr</td>\n",
       "      <td>1.0</td>\n",
       "      <td>0.914</td>\n",
       "      <td>1.0</td>\n",
       "      <td>1.0</td>\n",
       "      <td>0.667</td>\n",
       "      <td>0.000</td>\n",
       "      <td>1.0</td>\n",
       "      <td>1.0</td>\n",
       "      <td>1.0</td>\n",
       "    </tr>\n",
       "  </tbody>\n",
       "</table>\n",
       "</div>"
      ],
      "text/plain": [
       "  eval_metric  patient_level  vertebrae_level    C1    C2      C3      C4  \\\n",
       "0      recall            0.0            0.086   0.0   0.0   0.333   1.000   \n",
       "1   precision            0.0            0.073   0.0   0.0   0.037   0.143   \n",
       "2          tn           19.0          214.000  37.0  33.0  12.000  27.000   \n",
       "3          fp            0.0           38.000   0.0   0.0  26.000  12.000   \n",
       "4          fn           22.0           32.000   4.0   8.0   2.000   0.000   \n",
       "5          tp            0.0            3.000   0.0   0.0   1.000   2.000   \n",
       "6         fpr            0.0            0.151   0.0   0.0   0.684   0.308   \n",
       "7         fnr            1.0            0.914   1.0   1.0   0.667   0.000   \n",
       "\n",
       "     C5    C6    C7  \n",
       "0   0.0   0.0   0.0  \n",
       "1   0.0   0.0   0.0  \n",
       "2  36.0  36.0  33.0  \n",
       "3   0.0   0.0   0.0  \n",
       "4   5.0   5.0   8.0  \n",
       "5   0.0   0.0   0.0  \n",
       "6   0.0   0.0   0.0  \n",
       "7   1.0   1.0   1.0  "
      ]
     },
     "execution_count": 9,
     "metadata": {},
     "output_type": "execute_result"
    }
   ],
   "source": [
    "model_results_tbl"
   ]
  },
  {
   "cell_type": "code",
   "execution_count": 31,
   "id": "b97fe917-f3ac-4011-af32-5b06ee340a0d",
   "metadata": {},
   "outputs": [],
   "source": [
    "model_results_vert = model_results[~model_results.row_id.str.contains('patient_overall')].copy()\n",
    "model_results_vert['vertebrae'] = model_results_vert.row_id.apply(lambda x: x.split('_')[-1])\n",
    "model_results_vert['row_id'] = model_results_vert.row_id.apply(lambda x: x.split('_')[0])\n",
    "\n",
    "model_results_vert['actual_vertebrae'] = None\n",
    "model_results_vert['predicted_vertebrae'] = None\n",
    "model_results_vert.loc[model_results_vert['actual'] == 1, 'actual_vertebrae'] = model_results_vert.loc[model_results_vert['actual'] == 1, 'vertebrae']\n",
    "model_results_vert.loc[model_results_vert['fractured'] == 1, 'predicted_vertebrae'] = model_results_vert.loc[model_results_vert['fractured'] == 1, 'vertebrae']"
   ]
  },
  {
   "cell_type": "code",
   "execution_count": 50,
   "id": "de8c14a4-823d-46ed-8446-bb9752557856",
   "metadata": {},
   "outputs": [
    {
     "data": {
      "text/plain": [
       "actual_vertebrae  predicted_vertebrae\n",
       "NaN               C3                     0.317073\n",
       "                  C4                     0.146341\n",
       "C1,C2             C3                     0.073171\n",
       "C2                C3                     0.073171\n",
       "C7                C4                     0.073171\n",
       "C6,C7             C3                     0.048780\n",
       "C7                C3                     0.048780\n",
       "C1                C3                     0.024390\n",
       "C2                C4                     0.024390\n",
       "C2,C3,C5          C4                     0.024390\n",
       "C3                C3                     0.024390\n",
       "C3,C4,C5,C6       C4                     0.024390\n",
       "C4,C5             C4                     0.024390\n",
       "C5                C3                     0.024390\n",
       "C5,C6,C7          C3                     0.024390\n",
       "C6                C4                     0.024390\n",
       "dtype: float64"
      ]
     },
     "execution_count": 50,
     "metadata": {},
     "output_type": "execute_result"
    }
   ],
   "source": [
    "crosstab_predict = pd.merge(\n",
    "    model_results_vert[model_results_vert.actual_vertebrae.notnull()].groupby('row_id').agg({'actual_vertebrae': lambda x: ','.join(x)}).reset_index(),\n",
    "    model_results_vert[model_results_vert.predicted_vertebrae.notnull()].groupby('row_id').agg({'predicted_vertebrae': lambda x: ','.join(x)}).reset_index(),how='outer'\n",
    "    \n",
    ")\n",
    "crosstab_predict[['actual_vertebrae','predicted_vertebrae']].value_counts(dropna=False)\n",
    "crosstab_predict[['actual_vertebrae','predicted_vertebrae']].value_counts(dropna=False,normalize=True)"
   ]
  },
  {
   "cell_type": "code",
   "execution_count": null,
   "id": "db979f08-3955-472c-840e-6047a30a00a0",
   "metadata": {},
   "outputs": [],
   "source": []
  }
 ],
 "metadata": {
  "instance_type": "ml.g4dn.xlarge",
  "kernelspec": {
   "display_name": "Python 3 (PyTorch 1.10 Python 3.8 GPU Optimized)",
   "language": "python",
   "name": "python3__SAGEMAKER_INTERNAL__arn:aws:sagemaker:us-east-1:081325390199:image/pytorch-1.10-gpu-py38"
  },
  "language_info": {
   "codemirror_mode": {
    "name": "ipython",
    "version": 3
   },
   "file_extension": ".py",
   "mimetype": "text/x-python",
   "name": "python",
   "nbconvert_exporter": "python",
   "pygments_lexer": "ipython3",
   "version": "3.8.10"
  },
  "papermill": {
   "default_parameters": {},
   "duration": 265.216841,
   "end_time": "2022-10-12T00:01:49.748392",
   "environment_variables": {},
   "exception": null,
   "input_path": "__notebook__.ipynb",
   "output_path": "__notebook__.ipynb",
   "parameters": {},
   "start_time": "2022-10-11T23:57:24.531551",
   "version": "2.3.4"
  },
  "vscode": {
   "interpreter": {
    "hash": "156252221e2123d4604f65e286a50c01040f0cf338cde0bac78be89dff1431fd"
   }
  }
 },
 "nbformat": 4,
 "nbformat_minor": 5
}
