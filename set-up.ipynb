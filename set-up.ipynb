{
 "cells": [
  {
   "cell_type": "markdown",
   "id": "f55b8ddb-8d18-49f2-bf94-2a1f868df5a1",
   "metadata": {},
   "source": [
    "# S3 Helper Functions\n",
    "**Objective** Create helper functions for uploading data to s3 and updating object ACL"
   ]
  },
  {
   "cell_type": "markdown",
   "id": "9829df22-07e1-4ee6-a247-54c6ebd8426a",
   "metadata": {},
   "source": [
    "## Initialize environment"
   ]
  },
  {
   "cell_type": "code",
   "execution_count": 11,
   "id": "c559f90e-b246-4db6-b72d-3d029033b6cb",
   "metadata": {},
   "outputs": [],
   "source": [
    "import boto3\n",
    "import pandas as pd\n",
    "import sagemaker\n",
    "import pprint\n",
    "\n",
    "# Get SageMaker session & default S3 bucket\n",
    "role = sagemaker.get_execution_role()\n",
    "sagemaker_session = sagemaker.Session()\n",
    "# region = sagemaker_session.boto_region_name\n",
    "region = 'us-east-1'\n",
    "s3 = sagemaker_session.boto_session.resource(\"s3\")\n",
    "bucket = \"w210-cervical-frac\""
   ]
  },
  {
   "cell_type": "code",
   "execution_count": 8,
   "id": "23b3f176-c5f5-4ee1-960e-5732549d2fe0",
   "metadata": {},
   "outputs": [],
   "source": [
    "acl = (boto3\n",
    " .session\n",
    " .Session(region_name=region)\n",
    " .resource('s3')\n",
    " .Object(bucket, 'data/train_images_dicom/es_dicom/1.2.826.0.1.3680043.10001/181.dcm')\n",
    " .Acl()\n",
    " # .Acl()\n",
    " # .put(ACL='public-read')\n",
    ")"
   ]
  },
  {
   "cell_type": "code",
   "execution_count": 14,
   "id": "01e186f6-0fec-41fa-9c0f-ec00079d98a6",
   "metadata": {},
   "outputs": [
    {
     "name": "stdout",
     "output_type": "stream",
     "text": [
      "sonialuo2014 FULL_CONTROL\n",
      "janehung FULL_CONTROL\n",
      "minjiexu FULL_CONTROL\n",
      "[{'Grantee': {'DisplayName': 'sonialuo2014',\n",
      "              'ID': '441ad5e9a03da0d4eb15bc3e49ce3a6416f89935e4e0dcf66dd008d95d2a0dc4',\n",
      "              'Type': 'CanonicalUser'},\n",
      "  'Permission': 'FULL_CONTROL'},\n",
      " {'Grantee': {'DisplayName': 'janehung',\n",
      "              'ID': 'b922bdcd00c21585d95b5df8925a2f711e1706ba38b579f8bd26565fa7adf1ae',\n",
      "              'Type': 'CanonicalUser'},\n",
      "  'Permission': 'FULL_CONTROL'},\n",
      " {'Grantee': {'DisplayName': 'minjiexu',\n",
      "              'ID': '0ca619ef17838420c9a7b3ae42a5494d356a8b55e56c0e3eb9f8ddc710cd3e74',\n",
      "              'Type': 'CanonicalUser'},\n",
      "  'Permission': 'FULL_CONTROL'}]\n"
     ]
    }
   ],
   "source": [
    "for grant in acl.grants: \n",
    "    print(grant['Grantee']['DisplayName'], grant['Permission'])\n",
    "pprint.pprint(acl.grants)"
   ]
  },
  {
   "cell_type": "markdown",
   "id": "766e63e1-3701-4bac-aa76-48407f7254fc",
   "metadata": {},
   "source": [
    "## Helper functions"
   ]
  },
  {
   "cell_type": "code",
   "execution_count": 3,
   "id": "42fae5ce-96b5-4903-a3fe-a682e0fa1227",
   "metadata": {},
   "outputs": [],
   "source": [
    "# helper functions to upload data to s3\n",
    "def write_to_s3(filename, bucket, prefix):\n",
    "    filename_key = filename.split(\".\")[0]\n",
    "    key = \"{}/{}/{}\".format(prefix, filename_key, filename)\n",
    "    return s3.Bucket(bucket).upload_file(filename, key)\n",
    "\n",
    "def update_obj_acl():\n",
    "    return 1\n",
    "\n",
    "def upload_to_s3(bucket, prefix, filename):\n",
    "    url = \"s3://{}/{}/{}\".format(bucket, prefix, filename)\n",
    "    print(\"Writing data to {}\".format(url))\n",
    "    write_to_s3(filename, bucket, prefix)"
   ]
  }
 ],
 "metadata": {
  "instance_type": "ml.t3.medium",
  "kernelspec": {
   "display_name": "Python 3 (Data Science)",
   "language": "python",
   "name": "python3__SAGEMAKER_INTERNAL__arn:aws:sagemaker:us-west-1:742091327244:image/datascience-1.0"
  },
  "language_info": {
   "codemirror_mode": {
    "name": "ipython",
    "version": 3
   },
   "file_extension": ".py",
   "mimetype": "text/x-python",
   "name": "python",
   "nbconvert_exporter": "python",
   "pygments_lexer": "ipython3",
   "version": "3.7.10"
  }
 },
 "nbformat": 4,
 "nbformat_minor": 5
}
